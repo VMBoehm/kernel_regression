{
 "cells": [
  {
   "cell_type": "code",
   "execution_count": 1,
   "metadata": {},
   "outputs": [],
   "source": [
    "import numpy as np\n",
    "import matplotlib.pyplot as plt"
   ]
  },
  {
   "cell_type": "code",
   "execution_count": 2,
   "metadata": {},
   "outputs": [],
   "source": [
    "from kernel_regression import KernelRegression as MyKernelRegression"
   ]
  },
  {
   "cell_type": "code",
   "execution_count": 3,
   "metadata": {},
   "outputs": [
    {
     "name": "stdout",
     "output_type": "stream",
     "text": [
      "(100,) (20, 100)\n",
      "(20, 100)\n",
      "(1, 100) (20, 100)\n"
     ]
    },
    {
     "data": {
      "image/png": "[encoded data removed]",
      "text/plain": [
       "<Figure size 432x288 with 1 Axes>"
      ]
     },
     "metadata": {
      "needs_background": "light"
     },
     "output_type": "display_data"
    }
   ],
   "source": [
    "X     = np.linspace(0,10,100)\n",
    "means = np.sin(X).ravel()\n",
    "\n",
    "###############################################################################\n",
    "# Add noise to targets\n",
    "np.random.seed(1)\n",
    "noise = 0.5 * (0.5 - np.random.rand(20,means.size))\n",
    "print(means.shape, noise.shape)\n",
    "data  = means+noise\n",
    "print(data.shape)\n",
    "\n",
    "###############################################################################\n",
    "y     = data\n",
    "plt.scatter(np.tile(X, len(y)),y)\n",
    "X     = X[np.newaxis,:]\n",
    "print(X.shape, y.shape)"
   ]
  },
  {
   "cell_type": "code",
   "execution_count": 24,
   "metadata": {},
   "outputs": [],
   "source": [
    "# \"\"\"The :mod:`sklearn.kernel_regressor` module implements the Kernel Regressor.\n",
    "# \"\"\"\n",
    "# # Author: Jan Hendrik Metzen <janmetzen@mailbox.de>\n",
    "# #\n",
    "# # License: BSD 3 clause\n",
    "# #\n",
    "# # modifications by Vanessa Boehm <vboehm@berkeley.edu>\n",
    "# # all modification all marked\n",
    "\n",
    "# import numpy as np\n",
    "\n",
    "# from sklearn.metrics.pairwise import pairwise_kernels\n",
    "# from sklearn.base import BaseEstimator, RegressorMixin\n",
    "\n",
    "\n",
    "# class MyKernelRegression(BaseEstimator, RegressorMixin):\n",
    "#     \"\"\"Nadaraya-Watson kernel regression with automatic bandwidth selection.\n",
    "\n",
    "#     This implements Nadaraya-Watson kernel regression with (optional) automatic\n",
    "#     bandwith selection of the kernel via leave-one-out cross-validation. Kernel\n",
    "#     regression is a simple non-parametric kernelized technique for learning\n",
    "#     a non-linear relationship between input variable(s) and a target variable.\n",
    "\n",
    "#     Parameters\n",
    "#     ----------\n",
    "#     kernel : string or callable, default=\"rbf\"\n",
    "#         Kernel map to be approximated. A callable should accept two arguments\n",
    "#         and the keyword arguments passed to this object as kernel_params, and\n",
    "#         should return a floating point number.\n",
    "\n",
    "#     gamma : float, default=None\n",
    "#         Gamma parameter for the RBF (\"bandwidth\"), polynomial,\n",
    "#         exponential chi2 and sigmoid kernels. Interpretation of the default\n",
    "#         value is left to the kernel; see the documentation for\n",
    "#         sklearn.metrics.pairwise. Ignored by other kernels. If a sequence of\n",
    "#         values is given, one of these values is selected which minimizes\n",
    "#         the mean-squared-error of leave-one-out cross-validation.\n",
    "\n",
    "#     See also\n",
    "#     --------\n",
    "\n",
    "#     sklearn.metrics.pairwise.kernel_metrics : List of built-in kernels.\n",
    "#     \"\"\"\n",
    "\n",
    "#     def __init__(self, kernel=\"rbf\", gamma=None):\n",
    "#         self.kernel = kernel\n",
    "#         self.gamma = gamma\n",
    "\n",
    "#     def fit(self, X, y):\n",
    "#         \"\"\"Fit the model\n",
    "\n",
    "#         Parameters\n",
    "#         ----------\n",
    "#         X : array-like of shape = [1, n_features]\n",
    "#             The training input samples.\n",
    "\n",
    "#         mod: allow to have n_samples at the same X values\n",
    "#         y : array-like, shape = [n_samples, n_features]\n",
    "#             The target values\n",
    "\n",
    "#         Returns\n",
    "#         -------\n",
    "#         self : object\n",
    "#             Returns self.\n",
    "#         \"\"\"\n",
    "#         self.X = np.transpose(X)\n",
    "#         self.y = y\n",
    "\n",
    "#         if hasattr(self.gamma, \"__iter__\"):\n",
    "#             self.gamma = self._optimize_gamma(self.gamma)\n",
    "\n",
    "#         return self\n",
    "\n",
    "#     def predict(self, X):\n",
    "#         \"\"\"Predict target values for X.\n",
    "\n",
    "#         Parameters\n",
    "#         ----------\n",
    "#         X : array-like of shape = [n_features,1]\n",
    "#             The input samples.\n",
    "\n",
    "#         Returns\n",
    "#         -------\n",
    "#         y : array of shape = [n_samples]\n",
    "#             The predicted target value.\n",
    "#         \"\"\"\n",
    "#         X = np.transpose(X)\n",
    "#         K = pairwise_kernels(self.X, X, metric=self.kernel, gamma=self.gamma)\n",
    "#         # mod: introduced einsum, changed axis = 0 to axis=(0,1), corrected normalization\n",
    "#         Ky = np.einsum('ji,nj->nji',K,self.y, optimize=True)\n",
    "#         return (Ky).sum(axis=(0,1)) / K.sum(axis=0)[np.newaxis,:]/len(self.y)\n",
    "\n",
    "#     def _optimize_gamma(self, gamma_values):\n",
    "#         # Select specific value of gamma from the range of given gamma_values\n",
    "#         # by minimizing mean-squared error in leave-one-out cross validation\n",
    "#         mse = np.empty_like(gamma_values, dtype=np.float)\n",
    "#         for i, gamma in enumerate(gamma_values):\n",
    "#             K = pairwise_kernels(self.X, self.X, metric=self.kernel,gamma=gamma)\n",
    "#             np.fill_diagonal(K, 0)  # leave-one-out\n",
    "#             # mod: introduced einsum, changed axis = 0 to axis=(0,1), corrected normalization\n",
    "#             Ky = np.einsum('ji,nj->nji',K,self.y)\n",
    "#             y_pred = Ky.sum(axis=(0,1)) / K.sum(axis=0)[np.newaxis,:]/len(self.y)\n",
    "#             mse[i] = ((y_pred - self.y) ** 2).mean()\n",
    "\n",
    "#         return gamma_values[np.nanargmin(mse)]\n"
   ]
  },
  {
   "cell_type": "code",
   "execution_count": 4,
   "metadata": {},
   "outputs": [
    {
     "data": {
      "text/plain": [
       "KernelRegression(gamma=39.4420605943766, kernel='rbf')"
      ]
     },
     "execution_count": 4,
     "metadata": {},
     "output_type": "execute_result"
    }
   ],
   "source": [
    "kde =MyKernelRegression(\"rbf\", gamma=np.logspace(-2, 2, 100))\n",
    "kde.fit(X,y)"
   ]
  },
  {
   "cell_type": "code",
   "execution_count": 5,
   "metadata": {},
   "outputs": [
    {
     "data": {
      "image/png": "[encoded data removed]",
      "text/plain": [
       "<Figure size 432x288 with 1 Axes>"
      ]
     },
     "metadata": {
      "needs_background": "light"
     },
     "output_type": "display_data"
    }
   ],
   "source": [
    "plt.scatter(np.tile(X, len(y)),y)\n",
    "plt.plot(np.linspace(0,10,30),kde.predict(np.linspace(0,10,30)[np.newaxis,:])[0],color='orange')\n",
    "plt.show()"
   ]
  },
  {
   "cell_type": "code",
   "execution_count": 10,
   "metadata": {},
   "outputs": [],
   "source": [
    "### old method - needs reshapring with N datasets which makes everything slower and memory inefficient"
   ]
  },
  {
   "cell_type": "code",
   "execution_count": 11,
   "metadata": {},
   "outputs": [],
   "source": [
    "\"\"\"The :mod:`sklearn.kernel_regressor` module implements the Kernel Regressor.\n",
    "\"\"\"\n",
    "# Author: Jan Hendrik Metzen <janmetzen@mailbox.de>\n",
    "#\n",
    "# License: BSD 3 clause\n",
    "\n",
    "import numpy as np\n",
    "\n",
    "from sklearn.metrics.pairwise import pairwise_kernels\n",
    "from sklearn.base import BaseEstimator, RegressorMixin\n",
    "\n",
    "\n",
    "class KernelRegression(BaseEstimator, RegressorMixin):\n",
    "    \"\"\"Nadaraya-Watson kernel regression with automatic bandwidth selection.\n",
    "\n",
    "    This implements Nadaraya-Watson kernel regression with (optional) automatic\n",
    "    bandwith selection of the kernel via leave-one-out cross-validation. Kernel\n",
    "    regression is a simple non-parametric kernelized technique for learning\n",
    "    a non-linear relationship between input variable(s) and a target variable.\n",
    "\n",
    "    Parameters\n",
    "    ----------\n",
    "    kernel : string or callable, default=\"rbf\"\n",
    "        Kernel map to be approximated. A callable should accept two arguments\n",
    "        and the keyword arguments passed to this object as kernel_params, and\n",
    "        should return a floating point number.\n",
    "\n",
    "    gamma : float, default=None\n",
    "        Gamma parameter for the RBF (\"bandwidth\"), polynomial,\n",
    "        exponential chi2 and sigmoid kernels. Interpretation of the default\n",
    "        value is left to the kernel; see the documentation for\n",
    "        sklearn.metrics.pairwise. Ignored by other kernels. If a sequence of\n",
    "        values is given, one of these values is selected which minimizes\n",
    "        the mean-squared-error of leave-one-out cross-validation.\n",
    "\n",
    "    See also\n",
    "    --------\n",
    "\n",
    "    sklearn.metrics.pairwise.kernel_metrics : List of built-in kernels.\n",
    "    \"\"\"\n",
    "\n",
    "    def __init__(self, kernel=\"rbf\", gamma=None):\n",
    "        self.kernel = kernel\n",
    "        self.gamma = gamma\n",
    "\n",
    "    def fit(self, X, y):\n",
    "        \"\"\"Fit the model\n",
    "\n",
    "        Parameters\n",
    "        ----------\n",
    "        X : array-like of shape = [n_samples, n_features]\n",
    "            The training input samples.\n",
    "\n",
    "        y : array-like, shape = [n_samples]\n",
    "            The target values\n",
    "\n",
    "        Returns\n",
    "        -------\n",
    "        self : object\n",
    "            Returns self.\n",
    "        \"\"\"\n",
    "        self.X = X\n",
    "        self.y = y\n",
    "\n",
    "        if hasattr(self.gamma, \"__iter__\"):\n",
    "            self.gamma = self._optimize_gamma(self.gamma)\n",
    "\n",
    "        return self\n",
    "\n",
    "    def predict(self, X):\n",
    "        \"\"\"Predict target values for X.\n",
    "\n",
    "        Parameters\n",
    "        ----------\n",
    "        X : array-like of shape = [n_samples, n_features]\n",
    "            The input samples.\n",
    "\n",
    "        Returns\n",
    "        -------\n",
    "        y : array of shape = [n_samples]\n",
    "            The predicted target value.\n",
    "        \"\"\"\n",
    "        K = pairwise_kernels(self.X, X, metric=self.kernel, gamma=self.gamma)\n",
    "        return (K * self.y[:, None]).sum(axis=0) / K.sum(axis=0)\n",
    "\n",
    "    def _optimize_gamma(self, gamma_values):\n",
    "        # Select specific value of gamma from the range of given gamma_values\n",
    "        # by minimizing mean-squared error in leave-one-out cross validation\n",
    "        mse = np.empty_like(gamma_values, dtype=np.float)\n",
    "        for i, gamma in enumerate(gamma_values):\n",
    "            K = pairwise_kernels(self.X, self.X, metric=self.kernel,\n",
    "                                 gamma=gamma)\n",
    "            np.fill_diagonal(K, 0)  # leave-one-out\n",
    "            Ky = K * self.y[:, np.newaxis]\n",
    "            y_pred = Ky.sum(axis=0) / K.sum(axis=0)\n",
    "            mse[i] = ((y_pred - self.y) ** 2).mean()\n",
    "\n",
    "        return gamma_values[np.nanargmin(mse)]\n"
   ]
  },
  {
   "cell_type": "code",
   "execution_count": 12,
   "metadata": {},
   "outputs": [
    {
     "data": {
      "text/plain": [
       "KernelRegression(gamma=35.938136638046295, kernel='rbf')"
      ]
     },
     "execution_count": 12,
     "metadata": {},
     "output_type": "execute_result"
    }
   ],
   "source": [
    "X = np.tile(X, len(y))\n",
    "y = y.reshape(X.shape)\n",
    "kde =KernelRegression(\"rbf\", gamma=np.logspace(-2, 2, 100))\n",
    "kde.fit(X.T,np.squeeze(y))"
   ]
  },
  {
   "cell_type": "code",
   "execution_count": 13,
   "metadata": {},
   "outputs": [
    {
     "data": {
      "image/png": "[encoded data removed]",
      "text/plain": [
       "<Figure size 432x288 with 1 Axes>"
      ]
     },
     "metadata": {
      "needs_background": "light"
     },
     "output_type": "display_data"
    }
   ],
   "source": [
    "plt.scatter(np.tile(X, len(y)),y)\n",
    "plt.plot(np.linspace(0,10,30),kde.predict(np.linspace(0,10,30)[:,np.newaxis]), color='orange')\n",
    "plt.show()"
   ]
  },
  {
   "cell_type": "code",
   "execution_count": null,
   "metadata": {},
   "outputs": [],
   "source": []
  },
  {
   "cell_type": "code",
   "execution_count": null,
   "metadata": {},
   "outputs": [],
   "source": []
  }
 ],
 "metadata": {
  "kernelspec": {
   "display_name": "covid-19",
   "language": "python",
   "name": "covid-19"
  },
  "language_info": {
   "codemirror_mode": {
    "name": "ipython",
    "version": 3
   },
   "file_extension": ".py",
   "mimetype": "text/x-python",
   "name": "python",
   "nbconvert_exporter": "python",
   "pygments_lexer": "ipython3",
   "version": "3.7.5"
  }
 },
 "nbformat": 4,
 "nbformat_minor": 2
}
